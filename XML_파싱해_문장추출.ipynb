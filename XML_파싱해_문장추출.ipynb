{
 "cells": [
  {
   "cell_type": "code",
   "execution_count": 1,
   "id": "9d0b26ec",
   "metadata": {},
   "outputs": [],
   "source": [
    "import glob #디렉토리 내 파일이름 탐색\n",
    "import os #현재 디렉토리 경로 조회\n",
    "import xml.etree.ElementTree as ET\n",
    "import pandas as pd\n",
    "from bs4 import BeautifulSoup\n",
    "#xml파서로 해보니까 에러가 나네 뷰리풀슾으로 파싱을....\n",
    "#pip install beautifulsoup4\n",
    "#pip install lxml"
   ]
  },
  {
   "cell_type": "code",
   "execution_count": 2,
   "id": "82ebe183",
   "metadata": {},
   "outputs": [
    {
     "name": "stdout",
     "output_type": "stream",
     "text": [
      "C:\\Users\\cauai\\englishTextbook\n"
     ]
    }
   ],
   "source": [
    "BASE_DIR = os.getcwd() + r'\\englishTextbook' #기본 디렉토리 위치\n",
    "print(BASE_DIR)"
   ]
  },
  {
   "cell_type": "code",
   "execution_count": 3,
   "id": "539afaba",
   "metadata": {},
   "outputs": [],
   "source": [
    "#파일명 수집을 위한 자료구조. 디렉토리가 여러개이므로 딕셔너리로 관리\n",
    "경로 = {}\n",
    "#glob은 지정한 각 하위 디렉토리 내의 모든 파일정보를 가져와서 리스트로 반환해줌\n",
    "경로['difficult'] = glob.glob(os.path.join(BASE_DIR+r'\\difficult', '*.xml'))\n",
    "경로['easy'] = glob.glob(os.path.join(BASE_DIR+r'\\easy', '*.xml'))\n",
    "경로['medium'] = glob.glob(os.path.join(BASE_DIR+r'\\medium', '*.xml'))\n",
    "경로['veryEasy'] = glob.glob(os.path.join(BASE_DIR+r'\\veryEasy', '*.xml'))\n",
    "\n",
    "#폴더 내에서 파일들의 확장자 일괄변경 [ren *tei *xml] -> .bat 파일로 목표 폴더 저장 후 실행."
   ]
  },
  {
   "cell_type": "code",
   "execution_count": 4,
   "id": "d4a99423",
   "metadata": {},
   "outputs": [
    {
     "name": "stdout",
     "output_type": "stream",
     "text": [
      "103\n",
      "120\n",
      "179\n",
      "117\n"
     ]
    }
   ],
   "source": [
    "print(len(경로['veryEasy']))\n",
    "print(len(경로['easy']))\n",
    "print(len(경로['medium']))\n",
    "print(len(경로['difficult']))"
   ]
  },
  {
   "cell_type": "code",
   "execution_count": 5,
   "id": "cbe57263",
   "metadata": {},
   "outputs": [],
   "source": [
    "#전달받은 파일 경로를 이용하여 xml 로딩후 sent 경로의 텍스트를 모아서 반환하는 함수\n",
    "def getSentences(파일경로):\n",
    "    doc = ET.parse(파일경로, parser=ET.XMLParser(encoding='utf-8'))\n",
    "    root = doc.getroot()\n",
    "    \n",
    "    binlist = list()\n",
    "    for sent in root.iter(\"sent\"):\n",
    "        binlist.append(sent.text)\n",
    "    return binlist  "
   ]
  },
  {
   "cell_type": "code",
   "execution_count": 6,
   "id": "36b4a510",
   "metadata": {},
   "outputs": [
    {
     "name": "stdout",
     "output_type": "stream",
     "text": [
      "C:\\Users\\cauai\\englishTextbook\\difficult\\9-agri-1.xml\n"
     ]
    },
    {
     "data": {
      "text/plain": [
       "['Soil usually denotes the soft surface layer of the earth crust.',\n",
       " 'According to the soil scientists, soil may be defined as the soft surface layer to the earth where plants grow and from which plants absorb inorganic nutrient elements.',\n",
       " 'Soil is composed of various types of organic matter, inorganic, water and air.',\n",
       " 'The soil as we see it now was not same originally.',\n",
       " 'It took so many years to attain this form, the earth was created from a gaseous material splinted from the sun.',\n",
       " 'This gaseous materials become gradually cool while moving around the sun and big size rocks was formed on the surface of the earth.',\n",
       " 'These rocks are named according to their characteristics as igneous rocks, sedimentary rock and metamorphic rocks.',\n",
       " 'Due to long actions of temperature, cold, snow fall, air flow, chemical processes, and by the action of natural forces, the rocks have been disintegrated and gradually converted to a soil material.',\n",
       " 'Later on, the soil has become suitable for agricultural production after mixing with plant and animal decay materials;',\n",
       " 'So, soil is heterogeneous mixture of finely weathered rocks, minerals, organic matter with water and air.',\n",
       " 'The mineral matters in soil have been formed as a result of intensive weathering of parent rocks caused by direct weathering action of natural forces like temperature, rainfall, air flow, snowfall, etc. for a longer duration of time, the sand particles, clay particles, and silt particles are known as mineral matters.',\n",
       " 'The mineral matters thus obtained were mixed at various proportions to form different soil texture.',\n",
       " 'Different textured soils are suitable for growing different type of crops.',\n",
       " 'Different types of soil textures are found to be suitable for different types of corp.',\n",
       " 'The mineral particles of soil are clustered to form compound granules, known as soil structure.',\n",
       " 'These granules make the soil porous and allow of water and air to move within it.',\n",
       " 'Granulated and crumb structured soils are very suitable for agricultural production.',\n",
       " 'Soil usually consists of 45 percent mineral matters.',\n",
       " 'The matters produced as a result of rotting of plant and animal residues in soil are known as organic matter.',\n",
       " 'The process of soil formation is completed with the mixing of organic matter with soil particles.',\n",
       " 'Organic matter improves the physical environment of a soil.',\n",
       " 'For example a soil become light, when organic matter is mixed with an originally heavy clay soil and the soil structure development is enhanced.',\n",
       " 'Organic matter is known as the life of a soil.',\n",
       " 'Because the soil micro-organisms become active in presence of organic matter in the soil.',\n",
       " \"As a result of the decomposition of organic matter plant nutrients like carbon, nitrogen, phosphorus, sulphur, calcium etc. become available for plant's absorptions.\",\n",
       " 'In addition an organic complex material namely humus is formed which is most important for soil fertility.',\n",
       " 'Organic matter increases the water holding capacity of soil, soil usually contains 5 percent organic matter.',\n",
       " 'Water is an important component of soil.',\n",
       " 'Water contained in soil makes the plant nutrient elements soluble and keeps the soil moistened.',\n",
       " 'As a result plant absorb these mutrient elements through its root hairs.',\n",
       " 'The main sources of water in the soil are the rain water and irrigation water.',\n",
       " 'Water remains in soil in the inter particles spaces.',\n",
       " 'Usually the moisture content of the soil is 25 percent.',\n",
       " 'Air Air is an important component of soil.',\n",
       " 'Air exists between inter particles spaces of the soil.',\n",
       " 'Living organisms for their respiration utilize the oxygen present in the soil air.',\n",
       " 'Till age of soil through ploughing and spading increases flow of air in soil.',\n",
       " 'The composition of air in soil is 25 percent.',\n",
       " 'The inorganic part of the soil is formed of various types of soil particles.',\n",
       " 'These particles are coarse sand, fine sand, silt and clay.',\n",
       " 'The size of the soil particles according to international system of measurement are the following.',\n",
       " 'The soil particles mentioned are mixed in different proportions to from soil textures of varied nature.',\n",
       " 'Depending on the textural variations, soil may be classified into three categories;',\n",
       " 'The soil, which contains 70 per cent or more sand particles, is known as sandy soil.',\n",
       " 'Sandy soil is mostly seen in deserts, river banks, flood plain and sea beach.',\n",
       " 'The sand particles are larger in size.',\n",
       " 'The water holding capacity of sandy soil is very low.',\n",
       " 'The sandy soil rapidly dries because of large inter particle pores contained in it.',\n",
       " 'Aeration rate is also higher in the case of sandy soil.',\n",
       " 'The organic matter content of sandy soil is scarce.',\n",
       " 'Sandy soils are not suitable for agricultural production.',\n",
       " 'Using cowdung, compost, green manure etc. in sandy soils having fine and particles, Cheena, Kaon, Futi, Watermelon and Potato may be grown.',\n",
       " 'When sand, silt and clay particles exist in equal proportion in a soil then the texture of the soil is termed as loamy.',\n",
       " 'However, in a typical loamy soil half the composition should be sand, and the rest half silt and clay.',\n",
       " 'The organic matter content of loamy soil is usually higher.',\n",
       " 'The water absorption and holding capacities of loamy soil are comparatively higher.',\n",
       " 'The loamy soils are most suitable for agricultural production.',\n",
       " 'As a result most of the crops can grow better in this type of soil.',\n",
       " 'The soil of majority areas of Bangladesh is of loamy texture.',\n",
       " 'The loamy soils are termed as ideal soil for agricultural use.',\n",
       " 'The sandy soils having more sand particles are known as sandy loam soil.',\n",
       " 'The sandy loam soil is mostly found in Tista Floodplain area.',\n",
       " 'The crops mainly grown in sandy loam soil are, Radish, Tobacco, Pepper or Chili etc.',\n",
       " 'The loamy soils, which contain more silt particles, are known as silt loam soils.',\n",
       " 'Silty loam textured soil is mostly found in the southern regions of Bangladesh.',\n",
       " 'Rice, Jute, Wheat, Sugarcane, Potato and Vegetables are commonly grown in the silt loam textured soil.',\n",
       " 'The loam textured soil, which contain more quantities of days, are known as clay low loam soils.',\n",
       " 'The flood plain sills of Ganges Riverine area are included in this class of soil texture.',\n",
       " 'The crops mainly grown in the clay loom soil are rice, cotton, wheat, pulses, oil seeds etc.',\n",
       " 'The soil which contains 40 to 50 percent clay soil.',\n",
       " 'Clay soil is also popularly known as heavy textured soil.',\n",
       " 'The porosity of clay soil is low.',\n",
       " \"As a result it's water holding capacity is very high.\",\n",
       " 'The drainage capacity of the type of soil is very low.',\n",
       " 'The clay textured soil is very hard when dry, but become very soft when moistened.',\n",
       " 'This type of soil may be converted to the soil of loamy nature by adding sufficient quantities of organic manures.',\n",
       " 'The major crops grown in this type of soil texture are Rice, Jute, Sugarcane, and Vegetables.']"
      ]
     },
     "execution_count": 6,
     "metadata": {},
     "output_type": "execute_result"
    }
   ],
   "source": [
    "#작동 테스트\n",
    "print(경로['difficult'][0])\n",
    "getSentences(경로['difficult'][0])"
   ]
  },
  {
   "cell_type": "code",
   "execution_count": 7,
   "id": "ad0c0bc6",
   "metadata": {},
   "outputs": [
    {
     "name": "stdout",
     "output_type": "stream",
     "text": [
      "error in  C:\\Users\\cauai\\englishTextbook\\veryEasy\\3-socStud-4.xml\n",
      "error in  C:\\Users\\cauai\\englishTextbook\\easy\\5-sci-3.xml\n",
      "error in  C:\\Users\\cauai\\englishTextbook\\easy\\6-artCraft-2.xml\n",
      "error in  C:\\Users\\cauai\\englishTextbook\\easy\\6-genSci-9.xml\n",
      "error in  C:\\Users\\cauai\\englishTextbook\\easy\\6-homeEco-1.xml\n",
      "error in  C:\\Users\\cauai\\englishTextbook\\easy\\6-homeEco-2.xml\n",
      "error in  C:\\Users\\cauai\\englishTextbook\\easy\\6-islam-4.xml\n",
      "error in  C:\\Users\\cauai\\englishTextbook\\easy\\6-phyStud-1.xml\n",
      "error in  C:\\Users\\cauai\\englishTextbook\\medium\\8-agri-2.xml\n",
      "error in  C:\\Users\\cauai\\englishTextbook\\medium\\8-bdGlobal-7.xml\n",
      "error in  C:\\Users\\cauai\\englishTextbook\\medium\\8-eng-1.xml\n",
      "error in  C:\\Users\\cauai\\englishTextbook\\medium\\8-genSci-12.xml\n",
      "error in  C:\\Users\\cauai\\englishTextbook\\medium\\8-genSci-22.xml\n",
      "error in  C:\\Users\\cauai\\englishTextbook\\medium\\8-genSci-3.xml\n",
      "error in  C:\\Users\\cauai\\englishTextbook\\medium\\8-homeEco-15.xml\n",
      "error in  C:\\Users\\cauai\\englishTextbook\\difficult\\9-biology-1.xml\n",
      "error in  C:\\Users\\cauai\\englishTextbook\\difficult\\9-eco-1.xml\n",
      "error in  C:\\Users\\cauai\\englishTextbook\\difficult\\9-eco-2.xml\n",
      "error in  C:\\Users\\cauai\\englishTextbook\\difficult\\9-eco-6.xml\n",
      "error in  C:\\Users\\cauai\\englishTextbook\\difficult\\9-eco-7.xml\n",
      "error in  C:\\Users\\cauai\\englishTextbook\\difficult\\9-genSci-1.xml\n",
      "error in  C:\\Users\\cauai\\englishTextbook\\difficult\\9-genSci-16.xml\n",
      "error in  C:\\Users\\cauai\\englishTextbook\\difficult\\9-homeEco-14.xml\n",
      "error in  C:\\Users\\cauai\\englishTextbook\\difficult\\9-islam-2.xml\n"
     ]
    }
   ],
   "source": [
    "문장 = [] #(난이도표시, 문장) 으로 저장\n",
    "#각 난이도별로 수집\n",
    "#xml 파일 오류가 빈번히 발생하여 try except 로 에러중단을 피함\n",
    "\n",
    "for file in 경로['veryEasy']:\n",
    "    try:\n",
    "        result = getSentences(file) #문장리스트 수집\n",
    "        for sentence in result:\n",
    "            문장.append(('veryEasy',sentence))\n",
    "    except:\n",
    "        print('error in ', file)\n",
    "\n",
    "for file in 경로['easy']:\n",
    "    try:\n",
    "        result = getSentences(file) #문장리스트 수집\n",
    "        for sentence in result:\n",
    "            문장.append(('easy',sentence))\n",
    "    except:\n",
    "        print('error in ', file)\n",
    "\n",
    "for file in 경로['medium']:\n",
    "    try:\n",
    "        result = getSentences(file) #문장리스트 수집\n",
    "        for sentence in result:\n",
    "            문장.append(('medium',sentence))\n",
    "    except:\n",
    "        print('error in ', file)\n",
    "\n",
    "for file in 경로['difficult']:\n",
    "    try:\n",
    "        result = getSentences(file) #문장리스트 수집\n",
    "        for sentence in result:\n",
    "            문장.append(('difficult',sentence))\n",
    "    except:\n",
    "        print('error in ', file)  "
   ]
  },
  {
   "cell_type": "code",
   "execution_count": 8,
   "id": "cb0a137c",
   "metadata": {},
   "outputs": [
    {
     "ename": "ParseError",
     "evalue": "not well-formed (invalid token): line 98, column 86 (<string>)",
     "output_type": "error",
     "traceback": [
      "Traceback \u001b[1;36m(most recent call last)\u001b[0m:\n",
      "  File \u001b[0;32m\"C:\\ProgramData\\Anaconda3\\envs\\py38tensor2\\lib\\site-packages\\IPython\\core\\interactiveshell.py\"\u001b[0m, line \u001b[0;32m3437\u001b[0m, in \u001b[0;35mrun_code\u001b[0m\n    exec(code_obj, self.user_global_ns, self.user_ns)\n",
      "  File \u001b[0;32m\"<ipython-input-8-317a6d50a073>\"\u001b[0m, line \u001b[0;32m2\u001b[0m, in \u001b[0;35m<module>\u001b[0m\n    getSentences(r'C:\\Users\\Kislee\\Workspace\\Code Test\\englishTextbook\\veryEasy\\3-socStud-4.tei')\n",
      "  File \u001b[0;32m\"<ipython-input-5-7ae15136db8e>\"\u001b[0m, line \u001b[0;32m3\u001b[0m, in \u001b[0;35mgetSentences\u001b[0m\n    doc = ET.parse(파일경로, parser=ET.XMLParser(encoding='utf-8'))\n",
      "  File \u001b[0;32m\"C:\\ProgramData\\Anaconda3\\envs\\py38tensor2\\lib\\xml\\etree\\ElementTree.py\"\u001b[0m, line \u001b[0;32m1202\u001b[0m, in \u001b[0;35mparse\u001b[0m\n    tree.parse(source, parser)\n",
      "\u001b[1;36m  File \u001b[1;32m\"C:\\ProgramData\\Anaconda3\\envs\\py38tensor2\\lib\\xml\\etree\\ElementTree.py\"\u001b[1;36m, line \u001b[1;32m601\u001b[1;36m, in \u001b[1;35mparse\u001b[1;36m\u001b[0m\n\u001b[1;33m    parser.feed(data)\u001b[0m\n",
      "\u001b[1;36m  File \u001b[1;32m\"<string>\"\u001b[1;36m, line \u001b[1;32munknown\u001b[0m\n\u001b[1;31mParseError\u001b[0m\u001b[1;31m:\u001b[0m not well-formed (invalid token): line 98, column 86\n"
     ]
    }
   ],
   "source": [
    "#일부 문서에서 xml 해석에 오류발생\n",
    "getSentences(r'C:\\Users\\Kislee\\Workspace\\Code Test\\englishTextbook\\veryEasy\\3-socStud-4.tei')"
   ]
  },
  {
   "cell_type": "code",
   "execution_count": 9,
   "id": "5553eb4b",
   "metadata": {},
   "outputs": [
    {
     "data": {
      "text/plain": [
       "88485"
      ]
     },
     "execution_count": 9,
     "metadata": {},
     "output_type": "execute_result"
    }
   ],
   "source": [
    "#수집 성공한 문장 수\n",
    "len(문장)"
   ]
  },
  {
   "cell_type": "code",
   "execution_count": 10,
   "id": "94f6744c",
   "metadata": {},
   "outputs": [
    {
     "data": {
      "text/plain": [
       "('veryEasy', 'Gradually the light of the sun spreads all around us.')"
      ]
     },
     "execution_count": 10,
     "metadata": {},
     "output_type": "execute_result"
    }
   ],
   "source": [
    "문장[0]"
   ]
  },
  {
   "cell_type": "code",
   "execution_count": 11,
   "id": "d4cfcf8c",
   "metadata": {},
   "outputs": [],
   "source": [
    "df = pd.DataFrame(문장, columns=['난이도','문장'])"
   ]
  },
  {
   "cell_type": "code",
   "execution_count": 12,
   "id": "845d3ec0",
   "metadata": {},
   "outputs": [
    {
     "data": {
      "text/html": [
       "<div>\n",
       "<style scoped>\n",
       "    .dataframe tbody tr th:only-of-type {\n",
       "        vertical-align: middle;\n",
       "    }\n",
       "\n",
       "    .dataframe tbody tr th {\n",
       "        vertical-align: top;\n",
       "    }\n",
       "\n",
       "    .dataframe thead th {\n",
       "        text-align: right;\n",
       "    }\n",
       "</style>\n",
       "<table border=\"1\" class=\"dataframe\">\n",
       "  <thead>\n",
       "    <tr style=\"text-align: right;\">\n",
       "      <th></th>\n",
       "      <th>난이도</th>\n",
       "      <th>문장</th>\n",
       "    </tr>\n",
       "  </thead>\n",
       "  <tbody>\n",
       "    <tr>\n",
       "      <th>0</th>\n",
       "      <td>veryEasy</td>\n",
       "      <td>Gradually the light of the sun spreads all aro...</td>\n",
       "    </tr>\n",
       "    <tr>\n",
       "      <th>1</th>\n",
       "      <td>veryEasy</td>\n",
       "      <td>As the light spreads, birds start singing swee...</td>\n",
       "    </tr>\n",
       "    <tr>\n",
       "      <th>2</th>\n",
       "      <td>veryEasy</td>\n",
       "      <td>Children get ready for school and others for t...</td>\n",
       "    </tr>\n",
       "    <tr>\n",
       "      <th>3</th>\n",
       "      <td>veryEasy</td>\n",
       "      <td>Thus we all get ready for our daily work.</td>\n",
       "    </tr>\n",
       "    <tr>\n",
       "      <th>4</th>\n",
       "      <td>veryEasy</td>\n",
       "      <td>The sun also starts its work then.</td>\n",
       "    </tr>\n",
       "  </tbody>\n",
       "</table>\n",
       "</div>"
      ],
      "text/plain": [
       "        난이도                                                 문장\n",
       "0  veryEasy  Gradually the light of the sun spreads all aro...\n",
       "1  veryEasy  As the light spreads, birds start singing swee...\n",
       "2  veryEasy  Children get ready for school and others for t...\n",
       "3  veryEasy          Thus we all get ready for our daily work.\n",
       "4  veryEasy                 The sun also starts its work then."
      ]
     },
     "execution_count": 12,
     "metadata": {},
     "output_type": "execute_result"
    }
   ],
   "source": [
    "df.head()"
   ]
  },
  {
   "cell_type": "code",
   "execution_count": 13,
   "id": "96896e2d",
   "metadata": {},
   "outputs": [],
   "source": [
    "df.to_excel('영어교재문장.xlsx', index=False) #엑셀 저장후 열어보면 오류를 바로잡으라는 메시지 발견. (최초1회)"
   ]
  },
  {
   "cell_type": "code",
   "execution_count": null,
   "id": "772e6625",
   "metadata": {},
   "outputs": [],
   "source": []
  }
 ],
 "metadata": {
  "kernelspec": {
   "display_name": "Python 3",
   "language": "python",
   "name": "python3"
  },
  "language_info": {
   "codemirror_mode": {
    "name": "ipython",
    "version": 3
   },
   "file_extension": ".py",
   "mimetype": "text/x-python",
   "name": "python",
   "nbconvert_exporter": "python",
   "pygments_lexer": "ipython3",
   "version": "3.8.8"
  }
 },
 "nbformat": 4,
 "nbformat_minor": 5
}
