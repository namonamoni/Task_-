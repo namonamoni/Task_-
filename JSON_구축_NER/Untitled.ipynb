{
 "cells": [
  {
   "cell_type": "code",
   "execution_count": null,
   "id": "f7e4f906",
   "metadata": {},
   "outputs": [],
   "source": [
    "import urllib3\n",
    "import json"
   ]
  },
  {
   "cell_type": "code",
   "execution_count": null,
   "id": "d6b1af7e",
   "metadata": {},
   "outputs": [],
   "source": [
    "openApiURL = \"http://aiopen.etri.re.kr:8000/WiseNLU_spoken\" "
   ]
  },
  {
   "cell_type": "code",
   "execution_count": null,
   "id": "cc2d9e06",
   "metadata": {},
   "outputs": [],
   "source": [
    "accessKey = \"204a0e5d-baaa-4144-9c18-d4b44f69e14b\" #204a0e5d-baaa-4144-9c18-d4b44f69e14b\n",
    "analysisCode = \"ner\" #어떤 분석을 할 것인지? 이건 \n",
    "text = \"\""
   ]
  },
  {
   "cell_type": "code",
   "execution_count": null,
   "id": "0ef7d461",
   "metadata": {},
   "outputs": [],
   "source": [
    "import pandas as pd"
   ]
  },
  {
   "cell_type": "code",
   "execution_count": null,
   "id": "f0a57b78",
   "metadata": {},
   "outputs": [],
   "source": [
    "df = pd.read_excel('1994남10대.xlsx')"
   ]
  },
  {
   "cell_type": "code",
   "execution_count": null,
   "id": "36a66617",
   "metadata": {},
   "outputs": [],
   "source": [
    "df.head()"
   ]
  },
  {
   "cell_type": "code",
   "execution_count": null,
   "id": "30dba26d",
   "metadata": {},
   "outputs": [],
   "source": [
    "for data in df['문장']:\n",
    "    print(len(data))"
   ]
  },
  {
   "cell_type": "code",
   "execution_count": null,
   "id": "43d0c363",
   "metadata": {},
   "outputs": [],
   "source": [
    "from tqdm.notebook import tqdm"
   ]
  },
  {
   "cell_type": "code",
   "execution_count": null,
   "id": "bd16b9ff",
   "metadata": {},
   "outputs": [],
   "source": [
    "etri_data = []\n",
    "for data in tqdm(df['문장']):\n",
    "    text = data\n",
    "\n",
    "    requestJson = {\n",
    "        \"access_key\": accessKey,#내 변수\n",
    "        \"argument\": {\n",
    "            \"text\": text,\n",
    "            \"analysis_code\": analysisCode\n",
    "        }\n",
    "    }\n",
    "    \n",
    "    http = urllib3.PoolManager()\n",
    "    response = http.request(\n",
    "        \"POST\",\n",
    "        openApiURL,\n",
    "        headers={\"Content-Type\": \"application/json; charset=UTF-8\"},\n",
    "        body=json.dumps(requestJson)\n",
    "    )\n",
    "    result = json.loads(response.data)\n",
    "    sents = result['return_object']['sentence']\n",
    "    \n",
    "    for item in sents:\n",
    "        etri_data.append(item)\n",
    "        "
   ]
  },
  {
   "cell_type": "code",
   "execution_count": null,
   "id": "b11d692c",
   "metadata": {},
   "outputs": [],
   "source": [
    "len(etri_data)#AnswerMe_1994의 \"남자\", \"10대\" 전문은 841문장"
   ]
  },
  {
   "cell_type": "code",
   "execution_count": null,
   "id": "45a8bd95",
   "metadata": {},
   "outputs": [],
   "source": [
    "for item in etri_data:\n",
    "    print(item['text'])"
   ]
  },
  {
   "cell_type": "code",
   "execution_count": null,
   "id": "debfbd9c",
   "metadata": {},
   "outputs": [],
   "source": [
    "etri_data[0].keys()"
   ]
  },
  {
   "cell_type": "code",
   "execution_count": null,
   "id": "e4c06998",
   "metadata": {},
   "outputs": [],
   "source": [
    "etri_data[0]['NE']"
   ]
  },
  {
   "cell_type": "code",
   "execution_count": null,
   "id": "6827e894",
   "metadata": {},
   "outputs": [],
   "source": [
    "len(etri_data[0]['NE'])"
   ]
  },
  {
   "cell_type": "code",
   "execution_count": null,
   "id": "9aa1405c",
   "metadata": {},
   "outputs": [],
   "source": [
    "for data in sents:\n",
    "    print(data['text'])\n",
    "    for ne in data['NE']:\n",
    "        print(ne['text'], ne['type'])\n",
    "    print(\"------------------------\")"
   ]
  },
  {
   "cell_type": "code",
   "execution_count": null,
   "id": "b6173607",
   "metadata": {},
   "outputs": [],
   "source": [
    "NERS = [] #리스트 생성\n",
    "#텍스트와 타입을 쌍으로 튜플\n",
    "for data in sents:\n",
    "    for ne in data['NE']:\n",
    "        NERS.append( (ne['type'],ne['text']) )"
   ]
  },
  {
   "cell_type": "code",
   "execution_count": null,
   "id": "59b59bc6",
   "metadata": {},
   "outputs": [],
   "source": [
    "len(NERS) #262태그"
   ]
  },
  {
   "cell_type": "code",
   "execution_count": null,
   "id": "bd13a151",
   "metadata": {},
   "outputs": [],
   "source": [
    "tag_dic = {}\n",
    "for tag, word in NERS:\n",
    "    tag_dic[tag] = tag_dic.get(tag, 0)+1"
   ]
  },
  {
   "cell_type": "code",
   "execution_count": null,
   "id": "43711043",
   "metadata": {},
   "outputs": [],
   "source": [
    "tag_dic"
   ]
  },
  {
   "cell_type": "code",
   "execution_count": null,
   "id": "2c3210bd",
   "metadata": {},
   "outputs": [],
   "source": [
    "len(tag_dic) #전체 태그의 수"
   ]
  },
  {
   "cell_type": "markdown",
   "id": "cf7ae6d4",
   "metadata": {},
   "source": [
    "#### 개체명 태그셋의 빈도 5 이상의 상위 15개 태그 중, 1994년도의 10대 남성인 등장인물들의 언어문화를 특징적으로 보여줄 수 있는 태그셋 6가지를 선정해 내재된 요소들을 살핌\n",
    " (59, 'PS_NAME'),\n",
    " (39, 'CV_RELATION'),\n",
    " (13, 'CV_FOOD'),\n",
    " (11, 'CV_OCCUPATION'),\n",
    " (7, 'LCP_COUNTRY'),\n",
    " (7, 'AF_TRANSPORT'),"
   ]
  },
  {
   "cell_type": "code",
   "execution_count": null,
   "id": "801521fe",
   "metadata": {},
   "outputs": [],
   "source": [
    "tag_list = []\n",
    "for tag, freq in tag_dic.items():\n",
    "    tag_list.append((freq,tag))\n",
    "tag_list.sort(reverse=True)"
   ]
  },
  {
   "cell_type": "code",
   "execution_count": null,
   "id": "458aafdf",
   "metadata": {},
   "outputs": [],
   "source": [
    "for tag, word in NERS:\n",
    "    if tag=='PS_NAME': #_사람 이름\n",
    "        print(word) "
   ]
  },
  {
   "cell_type": "code",
   "execution_count": null,
   "id": "cd05063f",
   "metadata": {},
   "outputs": [],
   "source": [
    "for tag, word in NERS: #튜플\n",
    "    if tag== 'CV_RELATION': #_인간 관계 명칭\n",
    "        print(word) "
   ]
  },
  {
   "cell_type": "code",
   "execution_count": null,
   "id": "b232c738",
   "metadata": {},
   "outputs": [],
   "source": [
    "for tag, word in NERS: \n",
    "    if tag=='CV_OCCUPATION':#_직업 명칭 \n",
    "        print(word) "
   ]
  },
  {
   "cell_type": "code",
   "execution_count": null,
   "id": "04083bbe",
   "metadata": {},
   "outputs": [],
   "source": [
    "for tag, word in NERS: \n",
    "    if tag== 'CV_FOOD': #_음식 명칭, 음식재료\n",
    "        print(word) "
   ]
  },
  {
   "cell_type": "code",
   "execution_count": null,
   "id": "d10b171e",
   "metadata": {},
   "outputs": [],
   "source": [
    "for tag, word in NERS: #튜플\n",
    "    if tag== 'AF_TRANSPORT': #_인간 관계 명칭\n",
    "        print(word) "
   ]
  }
 ],
 "metadata": {
  "kernelspec": {
   "display_name": "Python 3",
   "language": "python",
   "name": "python3"
  },
  "language_info": {
   "codemirror_mode": {
    "name": "ipython",
    "version": 3
   },
   "file_extension": ".py",
   "mimetype": "text/x-python",
   "name": "python",
   "nbconvert_exporter": "python",
   "pygments_lexer": "ipython3",
   "version": "3.8.8"
  }
 },
 "nbformat": 4,
 "nbformat_minor": 5
}
