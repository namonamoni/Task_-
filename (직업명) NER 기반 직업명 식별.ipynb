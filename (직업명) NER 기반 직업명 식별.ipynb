{
 "cells": [
  {
   "cell_type": "code",
   "execution_count": 563,
   "id": "d04f3828",
   "metadata": {},
   "outputs": [],
   "source": [
    "import os \n",
    "#운영체제(OS : Operating System)를 제어할 수가 있음\n",
    "#os 모듈의 getcwd()는 현재 작업 디렉터리를 알려줍니다.\n",
    "#구해라(get)! 무엇을? 현재 작업 디렉터리(current working directory)를\n",
    "import glob\n",
    "#glob는 파일들의 리스트를 뽑을 때 사용함\n",
    "#glob('*.txt')과같이 현재 디렉토리의 txt파일을 보여줌.\n",
    "#이 함수는 인자로 밭은 패턴과 이름이 일치하는 모든 파일과 디렉토리의 리스트를 반환함\n",
    "#그냥 별표를 주면 모든 파일을 볼 수 있음.\n",
    "#현재 경로가 아닌 다른 경로도 조회가 가능함. glob(r'C:\\U*')으로 c에서 u로 시작한 파일을 \n",
    "#보이도록 할 수 있음.\n",
    "from tqdm.notebook import tqdm\n",
    "#진행표시바를 표시할 수 있는 기능임.\n",
    "import pandas as pd\n",
    "#넘파이 기반의 데이터 분석용 라이브라리\n",
    "#pandas는 pd라는 별명을 주로 사용함.\n",
    "import urllib3\n",
    "#웹과 관련된 데이터를 쉽게 다룰 수 있는 모듈임\n",
    "import json\n",
    "#python객체를 json 데이터로 만들어 쓰기 위해 모듈을 설치함."
   ]
  },
  {
   "cell_type": "code",
   "execution_count": 630,
   "id": "da239d7a",
   "metadata": {},
   "outputs": [
    {
     "name": "stdout",
     "output_type": "stream",
     "text": [
      "C:\\Users\\namho\\target_data\n"
     ]
    }
   ],
   "source": [
    "DATA_PATH = os.getcwd() + r'\\target_data'\n",
    "print(DATA_PATH)\n",
    "#os.getcwd를 통해서 현재 디렉토리 + r(ead)target_data 폴더를 합쳐서 경로를 설정함.\n",
    "#그리고 프린트를 통해서 확인하는 과정인 것이지"
   ]
  },
  {
   "cell_type": "code",
   "execution_count": 631,
   "id": "91726dbe",
   "metadata": {},
   "outputs": [
    {
     "name": "stdout",
     "output_type": "stream",
     "text": [
      "['C:\\\\Users\\\\namho\\\\target_data\\\\advanced6.xlsx']\n"
     ]
    }
   ],
   "source": [
    "files = glob.glob(os.path.join(DATA_PATH,'advanced6.xlsx'))\n",
    "print(files)\n",
    "#특정 확장자의 파일만을 가져오기 위해서 glob을 사용함.\n",
    "#import glob\n",
    "#import os.path\n",
    "#myPath = '내가/원하는/디렉토리의/경로'\n",
    "#myExt = '*.xlsx' 내가 찾고 싶은 확장자"
   ]
  },
  {
   "cell_type": "code",
   "execution_count": 632,
   "id": "59a85ada",
   "metadata": {},
   "outputs": [],
   "source": [
    "all_dfs = []\n",
    "for source in files:\n",
    "    temp_df = pd.read_excel(source, engine='openpyxl')\n",
    "    all_dfs.append(temp_df)\n",
    "df = pd.concat(all_dfs)"
   ]
  },
  {
   "cell_type": "code",
   "execution_count": 633,
   "id": "e342c9fa",
   "metadata": {},
   "outputs": [],
   "source": [
    "df = df[df['등급'].isin([1,2,3,4,5,6])]\n",
    "#Pandas isin 구문은 테이블 형식의 데이터를 읽고 처리할 때에 쓰임.\n",
    "#isin구문은 열이 list 값들을 포함하고 있는 모든 행을 골라낼 때 주로 쓰임\n",
    "#dataframe의 컬럼에서 어떤 list값을 포함하고 있는 것만 걸러낼 때 유용함.\n",
    "#그러니까 xlsx.file이 가진 '등급'culumn에서 1~6까지의 수를 가진 것만 추려서\n",
    "#df 함수에다가 담아놓은 것이지"
   ]
  },
  {
   "cell_type": "code",
   "execution_count": 634,
   "id": "58772c87",
   "metadata": {},
   "outputs": [
    {
     "data": {
      "text/plain": [
       "150"
      ]
     },
     "execution_count": 634,
     "metadata": {},
     "output_type": "execute_result"
    }
   ],
   "source": [
    "len(df)\n",
    "#len함수를 통해서 df함수의 수를 구함"
   ]
  },
  {
   "cell_type": "code",
   "execution_count": 635,
   "id": "b4b492e1",
   "metadata": {
    "scrolled": true
   },
   "outputs": [
    {
     "data": {
      "text/html": [
       "<div>\n",
       "<style scoped>\n",
       "    .dataframe tbody tr th:only-of-type {\n",
       "        vertical-align: middle;\n",
       "    }\n",
       "\n",
       "    .dataframe tbody tr th {\n",
       "        vertical-align: top;\n",
       "    }\n",
       "\n",
       "    .dataframe thead th {\n",
       "        text-align: right;\n",
       "    }\n",
       "</style>\n",
       "<table border=\"1\" class=\"dataframe\">\n",
       "  <thead>\n",
       "    <tr style=\"text-align: right;\">\n",
       "      <th></th>\n",
       "      <th>학교명</th>\n",
       "      <th>등급</th>\n",
       "      <th>지문</th>\n",
       "    </tr>\n",
       "  </thead>\n",
       "  <tbody>\n",
       "    <tr>\n",
       "      <th>0</th>\n",
       "      <td>경희대</td>\n",
       "      <td>6</td>\n",
       "      <td>나츠미: 어제 조선 시대 화가 신윤복을 다룬 드라마를 봤는데\\n좀 이상한 게 있었어...</td>\n",
       "    </tr>\n",
       "    <tr>\n",
       "      <th>1</th>\n",
       "      <td>경희대</td>\n",
       "      <td>6</td>\n",
       "      <td>장민: 어제 국립중앙박물관에 갔다 왔는데 정말 신기한 걸 봤어.\\n지아: 그게 뭐였...</td>\n",
       "    </tr>\n",
       "    <tr>\n",
       "      <th>2</th>\n",
       "      <td>경희대</td>\n",
       "      <td>6</td>\n",
       "      <td>내레이터: 개인이 다양한 콘텐츠를 직접 생산하고 공유하는\\n1인 미디어가 폭발적으로...</td>\n",
       "    </tr>\n",
       "    <tr>\n",
       "      <th>3</th>\n",
       "      <td>경희대</td>\n",
       "      <td>6</td>\n",
       "      <td>학생 1： 어젯밤에 인터넷에서 봤는데 영화 ‘타이타닉’ 주연 배우 있잖아, 이름이 ...</td>\n",
       "    </tr>\n",
       "    <tr>\n",
       "      <th>4</th>\n",
       "      <td>경희대</td>\n",
       "      <td>6</td>\n",
       "      <td>대부분의 나라에서는 시간 약속을 잘 지키는 것을 당연하게 여기지만 모든 나라에서 그...</td>\n",
       "    </tr>\n",
       "  </tbody>\n",
       "</table>\n",
       "</div>"
      ],
      "text/plain": [
       "   학교명  등급                                                 지문\n",
       "0  경희대   6  나츠미: 어제 조선 시대 화가 신윤복을 다룬 드라마를 봤는데\\n좀 이상한 게 있었어...\n",
       "1  경희대   6  장민: 어제 국립중앙박물관에 갔다 왔는데 정말 신기한 걸 봤어.\\n지아: 그게 뭐였...\n",
       "2  경희대   6  내레이터: 개인이 다양한 콘텐츠를 직접 생산하고 공유하는\\n1인 미디어가 폭발적으로...\n",
       "3  경희대   6  학생 1： 어젯밤에 인터넷에서 봤는데 영화 ‘타이타닉’ 주연 배우 있잖아, 이름이 ...\n",
       "4  경희대   6  대부분의 나라에서는 시간 약속을 잘 지키는 것을 당연하게 여기지만 모든 나라에서 그..."
      ]
     },
     "execution_count": 635,
     "metadata": {},
     "output_type": "execute_result"
    }
   ],
   "source": [
    "df.head()\n",
    "#맨 상단의 몇 개 head만 보이도록"
   ]
  },
  {
   "cell_type": "markdown",
   "id": "88770a3b",
   "metadata": {},
   "source": [
    "N급에 해당하는 지문만 골라서 분석하고자 함. 바로 아래 단이 원래 쓰던 것."
   ]
  },
  {
   "cell_type": "code",
   "execution_count": 636,
   "id": "2094bbc6",
   "metadata": {},
   "outputs": [],
   "source": [
    "#df_beginner = df[df['등급'].isin([1,2])]\n",
    "#등급 컬럼에서 list값 1, 2를 포함하고 있는 것만 걸러 초급(beginner)변수에 담음\n",
    "#df_intermediate = df[df['등급'].isin([3,4])]\n",
    "#등급 컬럼에서 list값 3, 4를 포함하고 있는 것만 걸러 중급(intermediate)변수에 담음\n",
    "#df_advanced = df[df['등급'].isin([5,6])]\n",
    "#등급 컬럼에서 list값 5, 6를 포함하고 있는 것만 걸러 고급(advanced)변수에 담음"
   ]
  },
  {
   "cell_type": "code",
   "execution_count": 637,
   "id": "06536467",
   "metadata": {},
   "outputs": [],
   "source": [
    "df_beginner1 = df[df['등급'].isin([1])]\n",
    "#등급 컬럼에서 list값 1를 포함하고 있는 것만 걸러 1급(beginner1)변수에 담음\n",
    "df_beginner2 = df[df['등급'].isin([2])]\n",
    "#등급 컬럼에서 list값 2를 포함하고 있는 것만 걸러 2급(beginner2)변수에 담음\n",
    "df_intermediate3 = df[df['등급'].isin([3])]\n",
    "#등급 컬럼에서 list값 3를 포함하고 있는 것만 걸러 3급(intermediate3)변수에 담음\n",
    "df_intermediate4 = df[df['등급'].isin([4])]\n",
    "#등급 컬럼에서 list값 4를 포함하고 있는 것만 걸러 4급(intermediate4)변수에 담음\n",
    "df_advanced5 = df[df['등급'].isin([5])]\n",
    "#등급 컬럼에서 list값 5를 포함하고 있는 것만 걸러 고급(advanced5)변수에 담음\n",
    "df_advanced6 = df[df['등급'].isin([6])]\n",
    "#등급 컬럼에서 list값 6를 포함하고 있는 것만 걸러 고급(advanced6)변수에 담음"
   ]
  },
  {
   "cell_type": "code",
   "execution_count": 638,
   "id": "686f7f0f",
   "metadata": {},
   "outputs": [],
   "source": [
    "#여기부터 이제 NER API를 사용하게 됨."
   ]
  },
  {
   "cell_type": "code",
   "execution_count": 639,
   "id": "00334076",
   "metadata": {},
   "outputs": [],
   "source": [
    "# 언어 분석 기술 문어/구어 중 한가지만 선택해 사용\n",
    "# 언어 분석 기술(문어)\n",
    "#openApiURL = \"http://aiopen.etri.re.kr:8000/WiseNLU\" \n",
    "# 언어 분석 기술(구어)\n",
    "openApiURL = \"http://aiopen.etri.re.kr:8000/WiseNLU_spoken\"\n",
    "accessKey = \"204a0e5d-baaa-4144-9c18-d4b44f69e14b\"\n",
    "analysisCode = \"ner\""
   ]
  },
  {
   "cell_type": "code",
   "execution_count": 640,
   "id": "0afa9621",
   "metadata": {},
   "outputs": [],
   "source": [
    "def requestNERfromText(text):\n",
    "    #요청정보 생성\n",
    "    requestJson = {\n",
    "        \"access_key\": accessKey,\n",
    "        \"argument\": {\n",
    "            \"text\": text,\n",
    "            \"analysis_code\": analysisCode\n",
    "        }\n",
    "    }\n",
    "        \n",
    "    http = urllib3.PoolManager()\n",
    "    #API 호출\n",
    "    response = http.request(\n",
    "        \"POST\",\n",
    "        openApiURL,\n",
    "        headers={\"Content-Type\": \"application/json; charset=UTF-8\"},\n",
    "        body=json.dumps(requestJson)\n",
    "    )\n",
    "        \n",
    "    #수신 데이터 변환\n",
    "    if response.status ==  200:\n",
    "        result = json.loads(response.data)\n",
    "    else:\n",
    "        result = None        \n",
    "    \n",
    "    return result"
   ]
  },
  {
   "cell_type": "code",
   "execution_count": 641,
   "id": "1e109d13",
   "metadata": {},
   "outputs": [],
   "source": [
    "def isOCC(tag):\n",
    "    if tag == 'CV_OCCUPATION':\n",
    "        return True\n",
    "    else:\n",
    "        return False"
   ]
  },
  {
   "cell_type": "code",
   "execution_count": 642,
   "id": "09b4ba6f",
   "metadata": {},
   "outputs": [],
   "source": [
    "# 아래 것은 이전에 국가명 뽑을 때 설정한 것인데 내가 임의로 막아놓음 샾만 없애면 됨\n",
    "#def isCountry(tag):\n",
    "#    if tag == 'LCP_COUNTRY':\n",
    "#        return True\n",
    "#    else:\n",
    "#        return False"
   ]
  },
  {
   "cell_type": "code",
   "execution_count": 643,
   "id": "064ea188",
   "metadata": {},
   "outputs": [],
   "source": [
    "attribute='지문'"
   ]
  },
  {
   "cell_type": "markdown",
   "id": "9478a87c",
   "metadata": {},
   "source": [
    "담아놓은 변수를 골라서 분석하기"
   ]
  },
  {
   "cell_type": "code",
   "execution_count": 644,
   "id": "45e3ac66",
   "metadata": {},
   "outputs": [],
   "source": [
    "\n",
    "##이것들은 이제 12/34/56급으로 쪼개 놓은 것들\n",
    "#traversal_df = df_beginner\n",
    "#traversal_df = df_intermediate\n",
    "#traversal_df = df_advanced\n",
    "\n",
    "##이것들은 이제 1/2/3/4/5/6급으로 세분화해서 쪼개놓은 것들\n",
    "#traversal_df = df_beginner1\n",
    "#traversal_df = df_beginner2\n",
    "#traversal_df = df_intermediate3\n",
    "#traversal_df = df_intermediate4\n",
    "#traversal_df = df_advanced5\n",
    "#traversal_df = df_advanced6\n",
    "\n",
    "#이것은 이제 1~6급까지 전체를 아우른 것\n",
    "#traversal_df = df\n",
    "\n",
    "traversal_df = df"
   ]
  },
  {
   "cell_type": "code",
   "execution_count": 645,
   "id": "e5802963",
   "metadata": {},
   "outputs": [],
   "source": [
    "#10000 글자 넘는 지문이 있는지 확인 (etri api에서 10000글자까지 허용)\n",
    "cnt = 0\n",
    "for cell in traversal_df[attribute]:\n",
    "    cnt+=1\n",
    "    if len(cell) > 10000:\n",
    "        print(cnt+1, len(cell))"
   ]
  },
  {
   "cell_type": "code",
   "execution_count": 646,
   "id": "473c087b",
   "metadata": {},
   "outputs": [
    {
     "data": {
      "application/vnd.jupyter.widget-view+json": {
       "model_id": "6ea0fb0809f544048c717e599378130e",
       "version_major": 2,
       "version_minor": 0
      },
      "text/plain": [
       "  0%|          | 0/150 [00:00<?, ?it/s]"
      ]
     },
     "metadata": {},
     "output_type": "display_data"
    }
   ],
   "source": [
    "etri_results = []\n",
    "\n",
    "for cell in tqdm(traversal_df[attribute]):\n",
    "    try:\n",
    "        ner_info = requestNERfromText(cell)\n",
    "        etri_results.append(ner_info)\n",
    "    except:\n",
    "        print('NER 정보 수집 실패')\n",
    "        etri_results.append(None) #원본 데이터와 수일치"
   ]
  },
  {
   "cell_type": "code",
   "execution_count": 647,
   "id": "da381894",
   "metadata": {},
   "outputs": [
    {
     "data": {
      "text/plain": [
       "150"
      ]
     },
     "execution_count": 647,
     "metadata": {},
     "output_type": "execute_result"
    }
   ],
   "source": [
    "len(etri_results) #다 정상적으로 수집된 것을 알 수 있다."
   ]
  },
  {
   "cell_type": "code",
   "execution_count": 648,
   "id": "41ae2822",
   "metadata": {},
   "outputs": [],
   "source": [
    "import pickle\n",
    "#복잡한 자료를 파일에 읽고 쓰는 방법임.\n",
    "#파일을 입맛대로 바꾸는 pickle, glob, os.path가 있음.\n",
    "#https://wikidocs.net/83"
   ]
  },
  {
   "cell_type": "code",
   "execution_count": 649,
   "id": "3b0971ea",
   "metadata": {},
   "outputs": [],
   "source": [
    "with open('ner_pckl',\"wb\") as f:\n",
    "    pickle.dump(etri_results, f)"
   ]
  },
  {
   "cell_type": "code",
   "execution_count": 650,
   "id": "76960f95",
   "metadata": {},
   "outputs": [],
   "source": [
    "with open('ner_pckl',\"rb\") as f:\n",
    "    loaded_data = pickle.load(f)"
   ]
  },
  {
   "cell_type": "code",
   "execution_count": 651,
   "id": "3ddd2cf1",
   "metadata": {},
   "outputs": [
    {
     "data": {
      "text/plain": [
       "150"
      ]
     },
     "execution_count": 651,
     "metadata": {},
     "output_type": "execute_result"
    }
   ],
   "source": [
    "len(loaded_data)"
   ]
  },
  {
   "cell_type": "markdown",
   "id": "b1cb7de7",
   "metadata": {},
   "source": [
    "불용어 설정"
   ]
  },
  {
   "cell_type": "code",
   "execution_count": 652,
   "id": "16e21502",
   "metadata": {},
   "outputs": [],
   "source": [
    "#불용어\n",
    "stop_occupation = ['아르바 이트','초（草','성균','기업','원작자','직장인','플레이어','여자 우두머리','사','음악 치료']\n",
    "#stop_country = ['항목']"
   ]
  },
  {
   "cell_type": "code",
   "execution_count": 653,
   "id": "0b2176bb",
   "metadata": {},
   "outputs": [],
   "source": [
    "#이건 국가명 식별할 때 남프랑 프가 같아서 그냥 이렇게 지정을 한 것인듯\n",
    "#최종 국가명에서 쓰이지 않을 불용어 설정인 것 같은데 일단 닫아놓자\n",
    "\n",
    "#count_replace_rule = {'남프랑스':'프랑스'}\n",
    "#def exceptional_country_replace(word):\n",
    "#    return count_replace_rule.get(word, word)"
   ]
  },
  {
   "cell_type": "code",
   "execution_count": 654,
   "id": "d5c2f807",
   "metadata": {},
   "outputs": [],
   "source": [
    "#name 'exceptional_occ_word_replace' is not defined 오류(밑 코드)를 해결함.\n",
    "#혹시나 해서 위의 국가명 불용어를 직업명 불용어로 바꿔보려고\n",
    "\n",
    "count_replace_rule = {'남프랑스':'프랑스'}\n",
    "def exceptional_occ_word_replace(word):\n",
    "    return count_replace_rule.get(word, word)\n"
   ]
  },
  {
   "cell_type": "markdown",
   "id": "e68029a5",
   "metadata": {},
   "source": [
    "#추가할 컬럼을 설정함.\n",
    "#아래에서 국가명은 닫아놓았음.\n",
    "이제 직업명만을 대상으로 할 것이므로..."
   ]
  },
  {
   "cell_type": "code",
   "execution_count": 655,
   "id": "c107b309",
   "metadata": {},
   "outputs": [],
   "source": [
    "#추가할 컬럼들\n",
    "occ_columns = [] #직업명\n",
    "#country_columns = []\n",
    "\n",
    "for cell in loaded_data:\n",
    "    ner_list = []\n",
    "    if cell != None:\n",
    "        for sent in cell['return_object']['sentence']:\n",
    "            for item in sent['NE']:\n",
    "                ner_list.append((item['text'], item['type']))\n",
    "    \n",
    "    occ_in_cell = []\n",
    "#    country_in_cell = []\n",
    "    \n",
    "    for word, tag in ner_list:\n",
    "        if isOCC(tag):\n",
    "            refined_word = exceptional_occ_word_replace(word)#여기가 문제인 것 같은데,,,word가 대체 뭐지\n",
    "            if refined_word not in stop_occupation:\n",
    "                occ_in_cell.append(refined_word)\n",
    "#        elif isCountry(tag):\n",
    "#            refined_word = exceptional_country_replace(word)\n",
    "#            if refined_word not in stop_country: #제외국가 설정\n",
    "#                country_in_cell.append(refined_word)\n",
    "    \n",
    "    occ_in_cell.sort() #정렬\n",
    "    occ_columns.append(occ_in_cell) \n",
    "#    country_in_cell.sort()\n",
    "#    country_columns.append(country_in_cell)\n",
    "    "
   ]
  },
  {
   "cell_type": "markdown",
   "id": "bae3f547",
   "metadata": {},
   "source": [
    "#아래에서 국가명은 닫아놓았음."
   ]
  },
  {
   "cell_type": "code",
   "execution_count": 656,
   "id": "a4346c22",
   "metadata": {},
   "outputs": [],
   "source": [
    "occ_sum = ['/'.join(item) for item in occ_columns]\n",
    "#country_sum = ['/'.join(item) for item in country_columns]"
   ]
  },
  {
   "cell_type": "markdown",
   "id": "27227cac",
   "metadata": {},
   "source": [
    "#아래에서 국가명은 닫아놓았음."
   ]
  },
  {
   "cell_type": "code",
   "execution_count": 657,
   "id": "d9d31d30",
   "metadata": {},
   "outputs": [],
   "source": [
    "df['직업명'] = occ_sum\n",
    "#df['국가명'] = country_sum"
   ]
  },
  {
   "cell_type": "markdown",
   "id": "856bb5d2",
   "metadata": {},
   "source": [
    "엑셀파일을 생성\n",
    "아나콘다에서 열면 UTF-8 오류가 발생하므로 바탕화면에 끌어서 봐야 함."
   ]
  },
  {
   "cell_type": "code",
   "execution_count": 658,
   "id": "012b8ec5",
   "metadata": {},
   "outputs": [],
   "source": [
    "df.to_excel('result_advanced6_0119.xlsx')"
   ]
  },
  {
   "cell_type": "markdown",
   "id": "ba59d2c6",
   "metadata": {},
   "source": [
    "#출현 빈도 확인\n",
    "#탐색 대상\n",
    "#초급 df_beginner.index\n",
    "#중급 df_intermediate.index\n",
    "#고급 df_advanced.index\n",
    "#전체 df.index"
   ]
  },
  {
   "cell_type": "code",
   "execution_count": 659,
   "id": "ffe00451",
   "metadata": {},
   "outputs": [
    {
     "data": {
      "text/plain": [
       "150"
      ]
     },
     "execution_count": 659,
     "metadata": {},
     "output_type": "execute_result"
    }
   ],
   "source": [
    "#여기에선 전체를 확인함.\n",
    "index_list = df.index\n",
    "len(index_list)"
   ]
  },
  {
   "cell_type": "markdown",
   "id": "86ef652d",
   "metadata": {},
   "source": [
    "#국가명을 대상으로 상위국가와 빈도를 구함"
   ]
  },
  {
   "cell_type": "code",
   "execution_count": 660,
   "id": "3f2ebf1c",
   "metadata": {},
   "outputs": [],
   "source": [
    "\n",
    "#country_dic = {} \n",
    "#for i in index_list:\n",
    "#    for item in country_columns[i]:\n",
    "#        country_dic[item] = country_dic.get(item, 0) + 1\n",
    "\n",
    "#country_freq = []\n",
    "#for key, value in country_dic.items():\n",
    "#    country_freq.append((value, key))\n",
    "#country_freq.sort(reverse=True)\n",
    "#print(\"출현 국가 수: \", len(country_dic))\n",
    "#print(\"상위빈도 국가\", country_freq)"
   ]
  },
  {
   "cell_type": "markdown",
   "id": "ee6212fd",
   "metadata": {},
   "source": [
    "#위의 코드를 직업명으로 변환함"
   ]
  },
  {
   "cell_type": "code",
   "execution_count": 661,
   "id": "f6d94db5",
   "metadata": {},
   "outputs": [
    {
     "name": "stdout",
     "output_type": "stream",
     "text": [
      "출현 직업명 수:  73\n",
      "상위빈도 직업명 {'화가': 8, '배우': 16, '학생': 172, '화학자': 1, '건축가': 4, '철학자': 2, '기자': 58, '초등학생': 2, '학자': 5, '앵커': 28, '전문가': 44, '가수': 10, '의 사': 1, '대학생': 14, '판사': 1, '교수': 134, '교사': 13, '감독': 14, '작가': 24, '평론가': 1, '소설가': 4, '역사학자': 1, '비평가': 1, '사회심리학자': 1, '발명가': 4, '엔지니어': 1, '큐레이터': 9, '선수': 15, '의사': 6, '전문의': 1, '개발자': 2, '아나운서': 4, '합창대원': 1, '음악평론가': 1, '문화전문가': 1, '기업인': 2, '농민': 5, '선생': 2, '공무원': 4, '상인': 5, '디자이너': 3, '조련사': 1, '변호사': 9, '고등학생': 5, '군인': 1, '연예인': 5, '크리에이터': 16, '회사원': 1, '기 자': 2, '정치인': 1, '여학생': 5, '농부': 5, '시인': 9, '경비원': 1, '전업주부': 2, '리포터': 2, '한글학자': 1, '미술가': 1, '심리학자': 1, '음악인': 1, '작곡가': 10, '중학생': 1, '화백': 4, '컨설턴트': 1, '과학자': 3, '작사가': 1, '방송인': 1, '선교사': 1, '유학자': 1, '운동가': 1, '사회학자': 1, '예술가': 1, '기상학자': 1}\n"
     ]
    }
   ],
   "source": [
    "#직업명으로 변환\n",
    "\n",
    "occupation_dic = {} #occupation_dic 딕셔너리 변수를 설정함.\n",
    "for i in index_list:\n",
    "    for item in occ_columns[i]:\n",
    "        occupation_dic[item] = occupation_dic.get(item, 0) + 1\n",
    "\n",
    "occupation_freq = []\n",
    "for key, value in occupation_dic.items():\n",
    "    occupation_freq.append((value, key))\n",
    "occupation_freq.sort(reverse=True)\n",
    "print(\"출현 직업명 수: \", len(occupation_dic))\n",
    "print(\"상위빈도 직업명\", occupation_dic)"
   ]
  },
  {
   "cell_type": "code",
   "execution_count": 662,
   "id": "0dfe8130",
   "metadata": {
    "scrolled": true
   },
   "outputs": [
    {
     "data": {
      "text/plain": [
       "{'화가': 8,\n",
       " '배우': 16,\n",
       " '학생': 172,\n",
       " '화학자': 1,\n",
       " '건축가': 4,\n",
       " '철학자': 2,\n",
       " '기자': 58,\n",
       " '초등학생': 2,\n",
       " '학자': 5,\n",
       " '앵커': 28,\n",
       " '전문가': 44,\n",
       " '가수': 10,\n",
       " '의 사': 1,\n",
       " '대학생': 14,\n",
       " '판사': 1,\n",
       " '교수': 134,\n",
       " '교사': 13,\n",
       " '감독': 14,\n",
       " '작가': 24,\n",
       " '평론가': 1,\n",
       " '소설가': 4,\n",
       " '역사학자': 1,\n",
       " '비평가': 1,\n",
       " '사회심리학자': 1,\n",
       " '발명가': 4,\n",
       " '엔지니어': 1,\n",
       " '큐레이터': 9,\n",
       " '선수': 15,\n",
       " '의사': 6,\n",
       " '전문의': 1,\n",
       " '개발자': 2,\n",
       " '아나운서': 4,\n",
       " '합창대원': 1,\n",
       " '음악평론가': 1,\n",
       " '문화전문가': 1,\n",
       " '기업인': 2,\n",
       " '농민': 5,\n",
       " '선생': 2,\n",
       " '공무원': 4,\n",
       " '상인': 5,\n",
       " '디자이너': 3,\n",
       " '조련사': 1,\n",
       " '변호사': 9,\n",
       " '고등학생': 5,\n",
       " '군인': 1,\n",
       " '연예인': 5,\n",
       " '크리에이터': 16,\n",
       " '회사원': 1,\n",
       " '기 자': 2,\n",
       " '정치인': 1,\n",
       " '여학생': 5,\n",
       " '농부': 5,\n",
       " '시인': 9,\n",
       " '경비원': 1,\n",
       " '전업주부': 2,\n",
       " '리포터': 2,\n",
       " '한글학자': 1,\n",
       " '미술가': 1,\n",
       " '심리학자': 1,\n",
       " '음악인': 1,\n",
       " '작곡가': 10,\n",
       " '중학생': 1,\n",
       " '화백': 4,\n",
       " '컨설턴트': 1,\n",
       " '과학자': 3,\n",
       " '작사가': 1,\n",
       " '방송인': 1,\n",
       " '선교사': 1,\n",
       " '유학자': 1,\n",
       " '운동가': 1,\n",
       " '사회학자': 1,\n",
       " '예술가': 1,\n",
       " '기상학자': 1}"
      ]
     },
     "execution_count": 662,
     "metadata": {},
     "output_type": "execute_result"
    }
   ],
   "source": [
    "occupation_dic"
   ]
  },
  {
   "cell_type": "markdown",
   "id": "c213aced",
   "metadata": {},
   "source": [
    "##코드 종료"
   ]
  },
  {
   "cell_type": "code",
   "execution_count": null,
   "id": "7c4b59c6",
   "metadata": {},
   "outputs": [],
   "source": []
  },
  {
   "cell_type": "code",
   "execution_count": null,
   "id": "d5ee9936",
   "metadata": {},
   "outputs": [],
   "source": []
  }
 ],
 "metadata": {
  "kernelspec": {
   "display_name": "Python 3",
   "language": "python",
   "name": "python3"
  },
  "language_info": {
   "codemirror_mode": {
    "name": "ipython",
    "version": 3
   },
   "file_extension": ".py",
   "mimetype": "text/x-python",
   "name": "python",
   "nbconvert_exporter": "python",
   "pygments_lexer": "ipython3",
   "version": "3.8.8"
  }
 },
 "nbformat": 4,
 "nbformat_minor": 5
}
